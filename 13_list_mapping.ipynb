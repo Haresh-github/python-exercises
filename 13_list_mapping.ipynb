{
 "cells": [
  {
   "cell_type": "code",
   "execution_count": 2,
   "metadata": {},
   "outputs": [
    {
     "name": "stdout",
     "output_type": "stream",
     "text": [
      "14\n"
     ]
    }
   ],
   "source": [
    "def count_super_vowels(s):\n",
    "    super_vowels = {'a', 'e', 'i', 'o', 'u'}\n",
    "    count = 0\n",
    "    for char in s.lower():\n",
    "        if char in super_vowels:\n",
    "            count += 1\n",
    "    return count\n",
    "\n",
    "string = \"This is an example string to count super vowels.\"\n",
    "print(count_super_vowels(string))\n"
   ]
  }
 ],
 "metadata": {
  "kernelspec": {
   "display_name": "Python 3",
   "language": "python",
   "name": "python3"
  },
  "language_info": {
   "codemirror_mode": {
    "name": "ipython",
    "version": 3
   },
   "file_extension": ".py",
   "mimetype": "text/x-python",
   "name": "python",
   "nbconvert_exporter": "python",
   "pygments_lexer": "ipython3",
   "version": "3.11.9"
  }
 },
 "nbformat": 4,
 "nbformat_minor": 2
}
