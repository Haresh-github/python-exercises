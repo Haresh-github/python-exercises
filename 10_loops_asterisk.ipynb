{
 "cells": [
  {
   "cell_type": "code",
   "execution_count": 17,
   "metadata": {},
   "outputs": [
    {
     "name": "stdout",
     "output_type": "stream",
     "text": [
      "* \n",
      "* * \n",
      "* * * \n"
     ]
    }
   ],
   "source": [
    "def triangle():\n",
    "    n=3\n",
    "    for i in range(1,n+1):\n",
    "       row = \"* \"*i\n",
    "       print(row)\n",
    "triangle()\n",
    "\n"
   ]
  },
  {
   "cell_type": "code",
   "execution_count": 19,
   "metadata": {},
   "outputs": [
    {
     "name": "stdout",
     "output_type": "stream",
     "text": [
      "* * *\n",
      "* *\n",
      "*\n"
     ]
    }
   ],
   "source": [
    "def inverted_triangle():\n",
    "    n=3\n",
    "    for i in range(n,0,-1):\n",
    "        row = \"* \"*i\n",
    "        print(row.strip())\n",
    "\n",
    "inverted_triangle()"
   ]
  }
 ],
 "metadata": {
  "kernelspec": {
   "display_name": "Python 3",
   "language": "python",
   "name": "python3"
  },
  "language_info": {
   "codemirror_mode": {
    "name": "ipython",
    "version": 3
   },
   "file_extension": ".py",
   "mimetype": "text/x-python",
   "name": "python",
   "nbconvert_exporter": "python",
   "pygments_lexer": "ipython3",
   "version": "3.11.9"
  }
 },
 "nbformat": 4,
 "nbformat_minor": 2
}
