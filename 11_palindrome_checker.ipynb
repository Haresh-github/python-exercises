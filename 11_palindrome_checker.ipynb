{
 "cells": [
  {
   "cell_type": "code",
   "execution_count": 24,
   "metadata": {},
   "outputs": [
    {
     "name": "stdout",
     "output_type": "stream",
     "text": [
      "No it is not a palindrome\n"
     ]
    }
   ],
   "source": [
    "def isPalindrome(test_string):\n",
    "    rev = ''.join(reversed(test_string))\n",
    "    if (test_string == rev):\n",
    "        return True\n",
    "    return False\n",
    "\n",
    "test_string = \"CAT\"\n",
    "palindtome_string = isPalindrome(test_string)\n",
    "\n",
    "\n",
    "if (palindtome_string):\n",
    "    print(\"Yes it is a palindrome\")\n",
    "else:\n",
    "    print(\"No it is not a palindrome\")\n",
    "\n",
    "\n"
   ]
  }
 ],
 "metadata": {
  "kernelspec": {
   "display_name": "Python 3",
   "language": "python",
   "name": "python3"
  },
  "language_info": {
   "codemirror_mode": {
    "name": "ipython",
    "version": 3
   },
   "file_extension": ".py",
   "mimetype": "text/x-python",
   "name": "python",
   "nbconvert_exporter": "python",
   "pygments_lexer": "ipython3",
   "version": "3.11.9"
  }
 },
 "nbformat": 4,
 "nbformat_minor": 2
}
