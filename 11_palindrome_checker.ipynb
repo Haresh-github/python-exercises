{
 "cells": [
  {
   "cell_type": "code",
   "execution_count": 3,
   "metadata": {},
   "outputs": [
    {
     "name": "stdout",
     "output_type": "stream",
     "text": [
      "racecar is a palindrome\n"
     ]
    }
   ],
   "source": [
    "def palindrome_checker(str):\n",
    "    for char in str:\n",
    "        if char.isalnum():\n",
    "            p_string = \"\".join(char)\n",
    "            return p_string == p_string[::-1]\n",
    "        \n",
    "def main():\n",
    "    input_string = input(\"Enter any word\")\n",
    "    if palindrome_checker(input_string):\n",
    "        print(f\"{input_string} is a palindrome\")\n",
    "    else:\n",
    "        print(f\"{input_string} is not a palindrome\")\n",
    "\n",
    "main()\n"
   ]
  }
 ],
 "metadata": {
  "kernelspec": {
   "display_name": "Python 3",
   "language": "python",
   "name": "python3"
  },
  "language_info": {
   "codemirror_mode": {
    "name": "ipython",
    "version": 3
   },
   "file_extension": ".py",
   "mimetype": "text/x-python",
   "name": "python",
   "nbconvert_exporter": "python",
   "pygments_lexer": "ipython3",
   "version": "3.11.9"
  }
 },
 "nbformat": 4,
 "nbformat_minor": 2
}
