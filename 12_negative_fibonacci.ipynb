{
 "cells": [
  {
   "cell_type": "code",
   "execution_count": 6,
   "metadata": {},
   "outputs": [
    {
     "name": "stdout",
     "output_type": "stream",
     "text": [
      "Negative Fibonacci sequence of 10 terms:\n",
      "[-55, 34, -21, 13, -8, 5, -3, 2, -1, 1, 0, 1, 1, 2, 3, 5, 8, 13, 21, 34, 55]\n"
     ]
    }
   ],
   "source": [
    "def negative_fibonacci(n):\n",
    "    fib_sequence = [0] * (2 * n + 1)\n",
    "    fib_sequence[n] = 0\n",
    "    fib_sequence[n + 1] = 1\n",
    "    \n",
    "    for i in range(n + 2, 2 * n +1):\n",
    "        fib_sequence[i] = fib_sequence[i - 1] + fib_sequence[i - 2]\n",
    "        \n",
    "    for i in range(n - 1, -1, -1):\n",
    "        fib_sequence[i] = fib_sequence[i + 2] - fib_sequence[i + 1]\n",
    "    \n",
    "    return fib_sequence\n",
    "\n",
    "def main():\n",
    "    num_terms = int(input(\"Enter the number of terms for the negative Fibonacci sequence: \"))\n",
    "    fib_sequence = negative_fibonacci(num_terms)\n",
    "    print(f\"Negative Fibonacci sequence of {num_terms} terms:\")\n",
    "    print(fib_sequence)\n",
    "\n",
    "main()\n"
   ]
  }
 ],
 "metadata": {
  "kernelspec": {
   "display_name": "Python 3",
   "language": "python",
   "name": "python3"
  },
  "language_info": {
   "codemirror_mode": {
    "name": "ipython",
    "version": 3
   },
   "file_extension": ".py",
   "mimetype": "text/x-python",
   "name": "python",
   "nbconvert_exporter": "python",
   "pygments_lexer": "ipython3",
   "version": "3.11.9"
  }
 },
 "nbformat": 4,
 "nbformat_minor": 2
}
